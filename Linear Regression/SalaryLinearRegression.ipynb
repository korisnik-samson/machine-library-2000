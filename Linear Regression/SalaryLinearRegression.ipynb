{
 "cells": [
  {
   "metadata": {},
   "cell_type": "markdown",
   "source": [
    "# The purpose\n",
    "   *  Model: $f_{w, b}(x) = wx + b$\n",
    "   *  Parameters: $w, b$\n",
    "   *  Cost Function $J(w, b)=\\frac{1}{2m} \\sum_{i=1}^{m}(f_{w, b}(x^{(i)}) - y^{(i)})^2$\n",
    "      * Which is basically the Mean Squared Error of the difference between the predicted value and the actual value\n",
    "   *  Objective: $minimize_{w, b} J(w, b)$\n",
    "\n"
   ],
   "id": "61aa6d13da727206"
  },
  {
   "cell_type": "code",
   "id": "initial_id",
   "metadata": {
    "collapsed": true,
    "ExecuteTime": {
     "end_time": "2024-08-28T17:01:17.516428Z",
     "start_time": "2024-08-28T17:01:15.106645Z"
    }
   },
   "source": [
    "from matplotlib import pyplot as plt\n",
    "import pandas as pd\n",
    "import numpy as np"
   ],
   "outputs": [],
   "execution_count": 2
  },
  {
   "metadata": {
    "ExecuteTime": {
     "end_time": "2024-08-28T17:01:17.550270Z",
     "start_time": "2024-08-28T17:01:17.519432Z"
    }
   },
   "cell_type": "code",
   "source": [
    "salary_data = pd.read_csv('../data/salary_dataset.csv')\n",
    "salary_df = pd.DataFrame(salary_data)"
   ],
   "id": "1ca061c6c934bb07",
   "outputs": [],
   "execution_count": 3
  },
  {
   "metadata": {
    "ExecuteTime": {
     "end_time": "2024-08-28T17:01:17.576242Z",
     "start_time": "2024-08-28T17:01:17.551797Z"
    }
   },
   "cell_type": "code",
   "source": "salary_df.head()",
   "id": "ee47ba534fd4901e",
   "outputs": [
    {
     "data": {
      "text/plain": [
       "   Unnamed: 0  YearsExperience   Salary\n",
       "0           0              1.2  39344.0\n",
       "1           1              1.4  46206.0\n",
       "2           2              1.6  37732.0\n",
       "3           3              2.1  43526.0\n",
       "4           4              2.3  39892.0"
      ],
      "text/html": [
       "<div>\n",
       "<style scoped>\n",
       "    .dataframe tbody tr th:only-of-type {\n",
       "        vertical-align: middle;\n",
       "    }\n",
       "\n",
       "    .dataframe tbody tr th {\n",
       "        vertical-align: top;\n",
       "    }\n",
       "\n",
       "    .dataframe thead th {\n",
       "        text-align: right;\n",
       "    }\n",
       "</style>\n",
       "<table border=\"1\" class=\"dataframe\">\n",
       "  <thead>\n",
       "    <tr style=\"text-align: right;\">\n",
       "      <th></th>\n",
       "      <th>Unnamed: 0</th>\n",
       "      <th>YearsExperience</th>\n",
       "      <th>Salary</th>\n",
       "    </tr>\n",
       "  </thead>\n",
       "  <tbody>\n",
       "    <tr>\n",
       "      <th>0</th>\n",
       "      <td>0</td>\n",
       "      <td>1.2</td>\n",
       "      <td>39344.0</td>\n",
       "    </tr>\n",
       "    <tr>\n",
       "      <th>1</th>\n",
       "      <td>1</td>\n",
       "      <td>1.4</td>\n",
       "      <td>46206.0</td>\n",
       "    </tr>\n",
       "    <tr>\n",
       "      <th>2</th>\n",
       "      <td>2</td>\n",
       "      <td>1.6</td>\n",
       "      <td>37732.0</td>\n",
       "    </tr>\n",
       "    <tr>\n",
       "      <th>3</th>\n",
       "      <td>3</td>\n",
       "      <td>2.1</td>\n",
       "      <td>43526.0</td>\n",
       "    </tr>\n",
       "    <tr>\n",
       "      <th>4</th>\n",
       "      <td>4</td>\n",
       "      <td>2.3</td>\n",
       "      <td>39892.0</td>\n",
       "    </tr>\n",
       "  </tbody>\n",
       "</table>\n",
       "</div>"
      ]
     },
     "execution_count": 4,
     "metadata": {},
     "output_type": "execute_result"
    }
   ],
   "execution_count": 4
  },
  {
   "metadata": {
    "ExecuteTime": {
     "end_time": "2024-08-28T17:01:17.603168Z",
     "start_time": "2024-08-28T17:01:17.578252Z"
    }
   },
   "cell_type": "code",
   "source": "salary_df.describe()",
   "id": "41e145253f59a51d",
   "outputs": [
    {
     "data": {
      "text/plain": [
       "       Unnamed: 0  YearsExperience         Salary\n",
       "count   30.000000        30.000000      30.000000\n",
       "mean    14.500000         5.413333   76004.000000\n",
       "std      8.803408         2.837888   27414.429785\n",
       "min      0.000000         1.200000   37732.000000\n",
       "25%      7.250000         3.300000   56721.750000\n",
       "50%     14.500000         4.800000   65238.000000\n",
       "75%     21.750000         7.800000  100545.750000\n",
       "max     29.000000        10.600000  122392.000000"
      ],
      "text/html": [
       "<div>\n",
       "<style scoped>\n",
       "    .dataframe tbody tr th:only-of-type {\n",
       "        vertical-align: middle;\n",
       "    }\n",
       "\n",
       "    .dataframe tbody tr th {\n",
       "        vertical-align: top;\n",
       "    }\n",
       "\n",
       "    .dataframe thead th {\n",
       "        text-align: right;\n",
       "    }\n",
       "</style>\n",
       "<table border=\"1\" class=\"dataframe\">\n",
       "  <thead>\n",
       "    <tr style=\"text-align: right;\">\n",
       "      <th></th>\n",
       "      <th>Unnamed: 0</th>\n",
       "      <th>YearsExperience</th>\n",
       "      <th>Salary</th>\n",
       "    </tr>\n",
       "  </thead>\n",
       "  <tbody>\n",
       "    <tr>\n",
       "      <th>count</th>\n",
       "      <td>30.000000</td>\n",
       "      <td>30.000000</td>\n",
       "      <td>30.000000</td>\n",
       "    </tr>\n",
       "    <tr>\n",
       "      <th>mean</th>\n",
       "      <td>14.500000</td>\n",
       "      <td>5.413333</td>\n",
       "      <td>76004.000000</td>\n",
       "    </tr>\n",
       "    <tr>\n",
       "      <th>std</th>\n",
       "      <td>8.803408</td>\n",
       "      <td>2.837888</td>\n",
       "      <td>27414.429785</td>\n",
       "    </tr>\n",
       "    <tr>\n",
       "      <th>min</th>\n",
       "      <td>0.000000</td>\n",
       "      <td>1.200000</td>\n",
       "      <td>37732.000000</td>\n",
       "    </tr>\n",
       "    <tr>\n",
       "      <th>25%</th>\n",
       "      <td>7.250000</td>\n",
       "      <td>3.300000</td>\n",
       "      <td>56721.750000</td>\n",
       "    </tr>\n",
       "    <tr>\n",
       "      <th>50%</th>\n",
       "      <td>14.500000</td>\n",
       "      <td>4.800000</td>\n",
       "      <td>65238.000000</td>\n",
       "    </tr>\n",
       "    <tr>\n",
       "      <th>75%</th>\n",
       "      <td>21.750000</td>\n",
       "      <td>7.800000</td>\n",
       "      <td>100545.750000</td>\n",
       "    </tr>\n",
       "    <tr>\n",
       "      <th>max</th>\n",
       "      <td>29.000000</td>\n",
       "      <td>10.600000</td>\n",
       "      <td>122392.000000</td>\n",
       "    </tr>\n",
       "  </tbody>\n",
       "</table>\n",
       "</div>"
      ]
     },
     "execution_count": 5,
     "metadata": {},
     "output_type": "execute_result"
    }
   ],
   "execution_count": 5
  },
  {
   "metadata": {
    "ExecuteTime": {
     "end_time": "2024-08-28T17:01:17.612585Z",
     "start_time": "2024-08-28T17:01:17.605514Z"
    }
   },
   "cell_type": "code",
   "source": [
    "class Algorithms:\n",
    "    # Cost Function - there could be others where bias isn't 0, but for this example, we're assuming it's 0\n",
    "    # basically the Mean Squared Error of the difference between the predicted value and the actual values given the weights and bias\n",
    "    @staticmethod\n",
    "    # X: Feature matrix (m x n), where m is the number of samples and n is the number of features.\n",
    "    # y: Target variable vector (m x 1).\n",
    "    # theta: Parameter vector (n x 1).\n",
    "    def compute_cost(X, y, theta):\n",
    "        m = len(y)\n",
    "        predictions = X.dot(theta)\n",
    "        squared_errors = np.square(predictions - y)\n",
    "        cost = 1 / (2 * m) * np.sum(squared_errors)\n",
    "        \n",
    "        return cost\n",
    "    \n",
    "    @staticmethod\n",
    "    def gradient_descent(X, y, theta, alpha, iterations):\n",
    "        m = len(y)\n",
    "        cost_history = []\n",
    "        \n",
    "        for _ in range(iterations):\n",
    "            predictions = X.dot(theta)\n",
    "            error = predictions - y\n",
    "            gradient = X.T.dot(error) / m\n",
    "            \n",
    "            theta -= alpha * gradient\n",
    "            cost = Algorithms.compute_cost(X, y, theta)\n",
    "            cost_history.append(cost)\n",
    "        \n",
    "        return theta, cost_history\n",
    "    \n",
    "    @staticmethod\n",
    "    def feature_normalize(X):\n",
    "        mu = np.mean(X, axis=0)\n",
    "        sigma = np.std(X, axis=0)\n",
    "        X_norm = (X - mu) / sigma\n",
    "        \n",
    "        return X_norm, mu, sigma\n",
    "    \n",
    "    @staticmethod\n",
    "    def normalize(X, y):\n",
    "        return np.linalg.inv(X.T.dot(X)).dot(X.T).dot(y)"
   ],
   "id": "563fa3092904a2",
   "outputs": [],
   "execution_count": 6
  },
  {
   "metadata": {
    "ExecuteTime": {
     "end_time": "2024-08-28T17:01:17.872651Z",
     "start_time": "2024-08-28T17:01:17.613592Z"
    }
   },
   "cell_type": "code",
   "source": [
    "# 1A: Plotting the data\n",
    "plt.xlabel('Years of Experience (X)', rotation=0)\n",
    "plt.ylabel('Salary (y)', rotation=90)\n",
    "plt.scatter(salary_df['YearsExperience'], salary_df['Salary'])"
   ],
   "id": "e996541a6d62d957",
   "outputs": [
    {
     "data": {
      "text/plain": [
       "<matplotlib.collections.PathCollection at 0x2055b03d700>"
      ]
     },
     "execution_count": 7,
     "metadata": {},
     "output_type": "execute_result"
    },
    {
     "data": {
      "text/plain": [
       "<Figure size 640x480 with 1 Axes>"
      ],
      "image/png": "[encoded data removed]"
     },
     "metadata": {},
     "output_type": "display_data"
    }
   ],
   "execution_count": 7
  },
  {
   "metadata": {
    "ExecuteTime": {
     "end_time": "2024-08-28T17:01:17.886036Z",
     "start_time": "2024-08-28T17:01:17.875660Z"
    }
   },
   "cell_type": "code",
   "source": [
    "# 1B: Cost Function\n",
    "X = salary_df['YearsExperience'].values\n",
    "y = salary_df['Salary'].values\n",
    "theta = np.random.randn(30, 30)\n",
    "\n",
    "cost = Algorithms.compute_cost(X, y, theta)"
   ],
   "id": "9b6551ce9d6941ad",
   "outputs": [],
   "execution_count": 8
  },
  {
   "metadata": {
    "ExecuteTime": {
     "end_time": "2024-08-28T17:01:17.893907Z",
     "start_time": "2024-08-28T17:01:17.887043Z"
    }
   },
   "cell_type": "code",
   "source": "cost",
   "id": "339de495ddb92db8",
   "outputs": [
    {
     "data": {
      "text/plain": [
       "3250980831.774719"
      ]
     },
     "execution_count": 9,
     "metadata": {},
     "output_type": "execute_result"
    }
   ],
   "execution_count": 9
  },
  {
   "metadata": {
    "ExecuteTime": {
     "end_time": "2024-08-28T17:06:24.587656Z",
     "start_time": "2024-08-28T17:06:24.394075Z"
    }
   },
   "cell_type": "code",
   "source": [
    "# 1C: Gradient Descent\n",
    "X = salary_df['YearsExperience'].values\n",
    "y = salary_df['Salary'].values\n",
    "m = len(y)\n",
    "X_b = np.vstack((np.ones(m), X)).T\n",
    "theta = np.random.randn(2)\n",
    "alpha = 0.01\n",
    "# take less epochs to see the cost function converge\n",
    "iterations = 10\n",
    "\n",
    "theta, cost_history = Algorithms.gradient_descent(X_b, y, theta, alpha, iterations)\n",
    "\n",
    "plt.plot(range(1, iterations + 1), cost_history)\n",
    "plt.xlabel('Iterations')\n",
    "plt.ylabel('Cost')\n",
    "\n",
    "theta"
   ],
   "id": "5fd114cbc7113a5c",
   "outputs": [
    {
     "data": {
      "text/plain": [
       "array([ 2333.32962776, 12642.41817659])"
      ]
     },
     "execution_count": 13,
     "metadata": {},
     "output_type": "execute_result"
    },
    {
     "data": {
      "text/plain": [
       "<Figure size 640x480 with 1 Axes>"
      ],
      "image/png": "[encoded data removed]"
     },
     "metadata": {},
     "output_type": "display_data"
    }
   ],
   "execution_count": 13
  },
  {
   "metadata": {
    "ExecuteTime": {
     "end_time": "2024-08-28T17:01:18.326873Z",
     "start_time": "2024-08-28T17:01:18.114449Z"
    }
   },
   "cell_type": "code",
   "source": [
    "# 1D: Feature Normalization\n",
    "X = np.c_[np.ones(salary_df.shape[0]), salary_df['YearsExperience']]\n",
    "\n",
    "# 2. Create y (target variable)\n",
    "y = salary_df['Salary'].values.reshape(-1, 1)\n",
    "\n",
    "# 3. Normalize X\n",
    "X_norm, mu, sigma = Algorithms.feature_normalize(X[:, 1].reshape(-1, 1))\n",
    "X_norm = np.c_[np.ones((X_norm.shape[0], 1)), X_norm]\n",
    "\n",
    "# 4. Compute optimal parameters using the normal equation\n",
    "theta_normal_eqn = Algorithms.normalize(X, y)\n",
    "\n",
    "# 5. Make predictions\n",
    "predictions_normal_eqn = X.dot(theta_normal_eqn)\n",
    "\n",
    "# 6. Print the final parameters, mu, and sigma\n",
    "print(f\"Parameters from Normal Equation:\\n{theta_normal_eqn}\\n\")\n",
    "print(f\"Mu: {mu}\\n\")\n",
    "print(f\"Sigma: {sigma}\\n\")"
   ],
   "id": "a4e33620cbd2b9a8",
   "outputs": [
    {
     "name": "stdout",
     "output_type": "stream",
     "text": [
      "Parameters from Normal Equation:\n",
      "[[24848.20396652]\n",
      " [ 9449.96232146]]\n",
      "\n",
      "Mu: [5.41333333]\n",
      "\n",
      "Sigma: [2.79018916]\n",
      "\n"
     ]
    }
   ],
   "execution_count": 11
  },
  {
   "metadata": {
    "ExecuteTime": {
     "end_time": "2024-08-28T17:01:18.338198Z",
     "start_time": "2024-08-28T17:01:18.334868Z"
    }
   },
   "cell_type": "code",
   "source": "",
   "id": "c620f1b4bc9ef1b6",
   "outputs": [],
   "execution_count": 11
  }
 ],
 "metadata": {
  "kernelspec": {
   "display_name": "Python 3",
   "language": "python",
   "name": "python3"
  },
  "language_info": {
   "codemirror_mode": {
    "name": "ipython",
    "version": 2
   },
   "file_extension": ".py",
   "mimetype": "text/x-python",
   "name": "python",
   "nbconvert_exporter": "python",
   "pygments_lexer": "ipython2",
   "version": "2.7.6"
  }
 },
 "nbformat": 4,
 "nbformat_minor": 5
}
